{
 "cells": [
  {
   "cell_type": "code",
   "execution_count": 1,
   "metadata": {},
   "outputs": [],
   "source": [
    "from lagent.actions import tool_api"
   ]
  },
  {
   "cell_type": "markdown",
   "metadata": {},
   "source": [
    "# 将函数转换为工具\n",
    "\n",
    "对于已定义好的函数，无需人工添加额外的描述。在 Lagent 中，我们提供了一个修饰器 tool_api，它可以通过自动解析函数的类型提示和文档字符串来生成描述字典，并将其绑定到属性 api_description。"
   ]
  },
  {
   "cell_type": "code",
   "execution_count": 3,
   "metadata": {},
   "outputs": [
    {
     "data": {
      "text/plain": [
       "{'name': 'bold',\n",
       " 'description': 'make text bold',\n",
       " 'parameters': [{'name': 'text',\n",
       "   'type': 'STRING',\n",
       "   'description': 'input text'}],\n",
       " 'required': ['text']}"
      ]
     },
     "execution_count": 3,
     "metadata": {},
     "output_type": "execute_result"
    }
   ],
   "source": [
    "@tool_api\n",
    "def bold(text: str) -> str:\n",
    "    \"\"\"make text bold\n",
    "\n",
    "    Args:\n",
    "        text (str): input text\n",
    "\n",
    "    Returns:\n",
    "        str: bold text\n",
    "    \"\"\"\n",
    "    return '**' + text + '**'\n",
    "\n",
    "\n",
    "bold.api_description"
   ]
  },
  {
   "cell_type": "markdown",
   "metadata": {},
   "source": [
    "一旦启用 returns_named_value，您应当声明返回值的名称，这将被处理成一个新的字段 return_data："
   ]
  },
  {
   "cell_type": "code",
   "execution_count": 4,
   "metadata": {},
   "outputs": [
    {
     "data": {
      "text/plain": [
       "{'name': 'bold',\n",
       " 'description': 'make text bold',\n",
       " 'parameters': [{'name': 'text',\n",
       "   'type': 'STRING',\n",
       "   'description': 'input text'}],\n",
       " 'required': ['text'],\n",
       " 'return_data': [{'name': 'bold_text',\n",
       "   'description': 'bold text',\n",
       "   'type': 'STRING'}]}"
      ]
     },
     "execution_count": 4,
     "metadata": {},
     "output_type": "execute_result"
    }
   ],
   "source": [
    "@tool_api(returns_named_value=True)\n",
    "def bold(text: str) -> str:\n",
    "    \"\"\"make text bold\n",
    "\n",
    "    Args:\n",
    "        text (str): input text\n",
    "\n",
    "    Returns:\n",
    "        bold_text (str): bold text\n",
    "    \"\"\"\n",
    "    return '**' + text + '**'\n",
    "\n",
    "bold.api_description"
   ]
  },
  {
   "cell_type": "markdown",
   "metadata": {},
   "source": [
    "有时工具可能返回一个 dict 或 tuple，如果你想在 return_data 中详细说明每个成员的含义而不是把它们当作一个整体，设置 explode_return=True 并在文档字符串的 Returns 部分中罗列它们。"
   ]
  },
  {
   "cell_type": "code",
   "execution_count": 6,
   "metadata": {},
   "outputs": [
    {
     "data": {
      "text/plain": [
       "{'name': 'list_args',\n",
       " 'description': 'Return arguments in dict format',\n",
       " 'parameters': [{'name': 'a', 'type': 'STRING', 'description': 'a'},\n",
       "  {'name': 'b', 'type': 'NUMBER', 'description': 'b'},\n",
       "  {'name': 'c', 'type': 'FLOAT', 'description': 'c'}],\n",
       " 'required': ['a', 'b'],\n",
       " 'return_data': [{'name': 'a', 'description': 'a', 'type': 'STRING'},\n",
       "  {'name': 'b', 'description': 'b', 'type': 'NUMBER'},\n",
       "  {'name': 'c', 'description': 'c'}]}"
      ]
     },
     "execution_count": 6,
     "metadata": {},
     "output_type": "execute_result"
    }
   ],
   "source": [
    "@tool_api(explode_return=True)\n",
    "def list_args(a: str, b: int, c: float = 0.0) -> dict:\n",
    "    \"\"\"Return arguments in dict format\n",
    "\n",
    "    Args:\n",
    "        a (str): a\n",
    "        b (int): b\n",
    "        c (float): c\n",
    "\n",
    "    Returns:\n",
    "        dict: input arguments\n",
    "            - a (str): a\n",
    "            - b (int): b\n",
    "            - c: c\n",
    "    \"\"\"\n",
    "    return {'a': a, 'b': b, 'c': c}\n",
    "\n",
    "list_args.api_description"
   ]
  },
  {
   "cell_type": "code",
   "execution_count": null,
   "metadata": {},
   "outputs": [],
   "source": []
  },
  {
   "cell_type": "code",
   "execution_count": null,
   "metadata": {},
   "outputs": [],
   "source": []
  }
 ],
 "metadata": {
  "kernelspec": {
   "display_name": "llm",
   "language": "python",
   "name": "python3"
  },
  "language_info": {
   "codemirror_mode": {
    "name": "ipython",
    "version": 3
   },
   "file_extension": ".py",
   "mimetype": "text/x-python",
   "name": "python",
   "nbconvert_exporter": "python",
   "pygments_lexer": "ipython3",
   "version": "3.10.14"
  }
 },
 "nbformat": 4,
 "nbformat_minor": 2
}
