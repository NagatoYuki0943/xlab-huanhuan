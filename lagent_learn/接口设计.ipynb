{
 "cells": [
  {
   "cell_type": "markdown",
   "metadata": {},
   "source": [
    "# 接口设计\n",
    "\n",
    "`BaseAction(description=None, parser=JsonParser, enable=True)` 是所有动作应该继承的基类，它接收三个初始化参数：\n",
    "\n",
    "- description：一个工具描述的字典，用于设置实例属性 `description`。通常不需要显式地传递这个参数，因为 `BaseAction` 的元类将查找被 `tool_api` 装饰的方法，并组装它们的 `api_description` 构造一个类属性 `__tool_description__`，如果实例化时 `description` 为空，那么该实例属性将置为 `__tool_description__。`。\n",
    "- parser：BaseParser 类，用于实例化一个动作解析器校验 `description` 所描述的工具的参数。例如，`JsonParser` 会要求模型在调用工具时传入一个 JSON 格式字符串或者 Python 字典，为了让 LLM 感知到该指令，它会在 `description` 中插入一个 `parameter_description` 字段。"
   ]
  },
  {
   "cell_type": "code",
   "execution_count": 12,
   "metadata": {},
   "outputs": [],
   "source": [
    "from lagent.actions import BaseAction, tool_api"
   ]
  },
  {
   "cell_type": "code",
   "execution_count": 13,
   "metadata": {},
   "outputs": [
    {
     "data": {
      "text/plain": [
       "{'name': 'bold',\n",
       " 'description': 'a function used to make text bold',\n",
       " 'parameters': [{'name': 'text',\n",
       "   'type': 'STRING',\n",
       "   'description': 'input content'}],\n",
       " 'required': ['text'],\n",
       " 'parameter_description': 'If you call this tool, you must pass arguments in the JSON format {key: value}, where the key is the parameter name.'}"
      ]
     },
     "execution_count": 13,
     "metadata": {},
     "output_type": "execute_result"
    }
   ],
   "source": [
    "action = BaseAction(\n",
    "    {\n",
    "        'name': 'bold',\n",
    "        'description': 'a function used to make text bold',\n",
    "        'parameters': [\n",
    "            {\n",
    "                'name': 'text', 'type': 'STRING', 'description': 'input content'\n",
    "            }\n",
    "        ],\n",
    "        'required': ['text']\n",
    "    }\n",
    ")\n",
    "action.description\n",
    "# enable: 指明该动作是否生效。"
   ]
  },
  {
   "cell_type": "markdown",
   "metadata": {},
   "source": [
    "# 自定义动作\n",
    "\n",
    "一个简单工具必须实现 run 方法，而工具包则应当避免将各子API名称定义为该保留字段。\n",
    "\n",
    "小技巧\n",
    "> 对于非工具包的 Action，run 允许不被 tool_api 装饰，除非你想提示返回信息。\n"
   ]
  },
  {
   "cell_type": "code",
   "execution_count": 14,
   "metadata": {},
   "outputs": [
    {
     "data": {
      "text/plain": [
       "{'name': 'Bold',\n",
       " 'description': 'make text bold',\n",
       " 'parameters': [{'name': 'text',\n",
       "   'type': 'STRING',\n",
       "   'description': 'input text'}],\n",
       " 'required': ['text']}"
      ]
     },
     "execution_count": 14,
     "metadata": {},
     "output_type": "execute_result"
    }
   ],
   "source": [
    "class Bold(BaseAction):\n",
    "\n",
    "    def run(self, text: str):\n",
    "        \"\"\"make text bold\n",
    "\n",
    "        Args:\n",
    "            text (str): input text\n",
    "\n",
    "        Returns:\n",
    "            str: bold text\n",
    "        \"\"\"\n",
    "        return '**' + text + '**'\n",
    "\n",
    "\n",
    "# 查看默认工具描述\n",
    "Bold.__tool_description__"
   ]
  },
  {
   "cell_type": "code",
   "execution_count": 15,
   "metadata": {},
   "outputs": [
    {
     "data": {
      "text/plain": [
       "{'name': 'PhraseEmphasis',\n",
       " 'description': 'a toolkit which provides different styles of text emphasis',\n",
       " 'api_list': [{'name': 'bold',\n",
       "   'description': 'make text bold',\n",
       "   'parameters': [{'name': 'text',\n",
       "     'type': 'STRING',\n",
       "     'description': 'input text'}],\n",
       "   'required': ['text']},\n",
       "  {'name': 'italic',\n",
       "   'description': 'make text italic',\n",
       "   'parameters': [{'name': 'text',\n",
       "     'type': 'STRING',\n",
       "     'description': 'input text'}],\n",
       "   'required': ['text']}]}"
      ]
     },
     "execution_count": 15,
     "metadata": {},
     "output_type": "execute_result"
    }
   ],
   "source": [
    "class PhraseEmphasis(BaseAction):\n",
    "    \"\"\"a toolkit which provides different styles of text emphasis\"\"\"\n",
    "\n",
    "    @tool_api\n",
    "    def bold(self, text):\n",
    "        \"\"\"make text bold\n",
    "\n",
    "        Args:\n",
    "            text (str): input text\n",
    "\n",
    "        Returns:\n",
    "            str: bold text\n",
    "        \"\"\"\n",
    "        return '**' + text + '**'\n",
    "\n",
    "    @tool_api\n",
    "    def italic(self, text):\n",
    "        \"\"\"make text italic\n",
    "\n",
    "        Args:\n",
    "            text (str): input text\n",
    "\n",
    "        Returns:\n",
    "            str: italic text\n",
    "        \"\"\"\n",
    "        return '*' + text + '*'\n",
    "\n",
    "\n",
    "# 查看默认工具描述\n",
    "PhraseEmphasis.__tool_description__"
   ]
  },
  {
   "cell_type": "code",
   "execution_count": null,
   "metadata": {},
   "outputs": [],
   "source": []
  }
 ],
 "metadata": {
  "kernelspec": {
   "display_name": "llm",
   "language": "python",
   "name": "python3"
  },
  "language_info": {
   "codemirror_mode": {
    "name": "ipython",
    "version": 3
   },
   "file_extension": ".py",
   "mimetype": "text/x-python",
   "name": "python",
   "nbconvert_exporter": "python",
   "pygments_lexer": "ipython3",
   "version": "3.10.14"
  }
 },
 "nbformat": 4,
 "nbformat_minor": 2
}
