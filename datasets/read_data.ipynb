{
 "cells": [
  {
   "cell_type": "code",
   "execution_count": 1,
   "metadata": {},
   "outputs": [],
   "source": [
    "import json\n",
    "import pandas as pd\n",
    "from tqdm import tqdm"
   ]
  },
  {
   "cell_type": "code",
   "execution_count": 2,
   "metadata": {},
   "outputs": [],
   "source": [
    "path1 = \"emo_data_xtuner.json\"\n",
    "path2 = \"emo_data_pro_xtuner.json\"\n",
    "path3 = \"emo_multi_turn_dataset_1_xtuner.json\"\n",
    "path4 = \"emo_multi_turn_dataset_2_xtuner.json\"\n",
    "path5 = \"emo_1234_xtuner.json\""
   ]
  },
  {
   "cell_type": "code",
   "execution_count": 4,
   "metadata": {},
   "outputs": [
    {
     "name": "stdout",
     "output_type": "stream",
     "text": [
      "16011\n"
     ]
    },
    {
     "name": "stderr",
     "output_type": "stream",
     "text": [
      "100%|██████████| 16011/16011 [00:00<00:00, 145120.30it/s]\n"
     ]
    },
    {
     "data": {
      "text/plain": [
       "0"
      ]
     },
     "execution_count": 4,
     "metadata": {},
     "output_type": "execute_result"
    }
   ],
   "source": [
    "empty = 0\n",
    "system = \"现在你是一个心理专家，我有一些心理问题，请你用专业的知识帮我解决。\"\n",
    "for path in [path5]:\n",
    "    with open(path, \"r\", encoding=\"utf-8\") as f1:\n",
    "        emo = json.load(f1)\n",
    "    print(len(emo))\n",
    "\n",
    "    for e in tqdm(emo):\n",
    "        conversation = e[\"conversation\"]\n",
    "        if len(conversation) < 1:\n",
    "            empty += 1\n",
    "            emo.remove(e)\n",
    "        for i, _ in enumerate(conversation):\n",
    "            # 添加system提示\n",
    "            if i == 0:\n",
    "                has_system = conversation[0].get(\"system\", False)\n",
    "                if not has_system:\n",
    "                    conversation[0] = {\"system\": system, **conversation[0]}\n",
    "\n",
    "            # 添加 \\n\\n\n",
    "            for key in [\"input\", \"output\"]:\n",
    "                # add \\n\\n\n",
    "                # if not conversation[i][key].endswith(\"\\n\\n\"):\n",
    "                #     # replace \\n with \\n\\n\n",
    "                #     if conversation[i][key].endswith(\"\\n\"):\n",
    "                #         conversation[i][key] = conversation[i][key][:-1] + \"\\n\\n\"\n",
    "                #         continue\n",
    "                #     conversation[i][key] += \"\\n\\n\"\n",
    "\n",
    "                # remove \\n\\n\n",
    "                if conversation[i][key].endswith(\"\\n\\n\"):\n",
    "                    conversation[i][key] = conversation[i][key][:-2]\n",
    "\n",
    "    with open(path, \"w\", encoding=\"utf-8\") as f1:\n",
    "        json.dump(emo, f1, indent=4, ensure_ascii=False)\n",
    "empty"
   ]
  },
  {
   "cell_type": "code",
   "execution_count": 106,
   "metadata": {},
   "outputs": [
    {
     "name": "stdout",
     "output_type": "stream",
     "text": [
      "16011\n"
     ]
    }
   ],
   "source": [
    "with open(path1, \"r\", encoding=\"utf-8\") as f1, open(path2, \"r\", encoding=\"utf-8\") as f2:\n",
    "    with open(path3, \"r\", encoding=\"utf-8\") as f3, open(\n",
    "        path4, \"r\", encoding=\"utf-8\"\n",
    "    ) as f4:\n",
    "        data1 = json.load(f1)\n",
    "        data2 = json.load(f2)\n",
    "        data3 = json.load(f3)\n",
    "        data4 = json.load(f4)\n",
    "        data = data1 + data2 + data3 + data4\n",
    "print(len(data))\n",
    "with open(\"emo_1234_xtuner.json\", \"w\", encoding=\"utf-8\") as f:\n",
    "    json.dump(data, f, indent=4, ensure_ascii=False)"
   ]
  },
  {
   "cell_type": "code",
   "execution_count": null,
   "metadata": {},
   "outputs": [],
   "source": []
  }
 ],
 "metadata": {
  "kernelspec": {
   "display_name": "pytorch",
   "language": "python",
   "name": "python3"
  },
  "language_info": {
   "codemirror_mode": {
    "name": "ipython",
    "version": 3
   },
   "file_extension": ".py",
   "mimetype": "text/x-python",
   "name": "python",
   "nbconvert_exporter": "python",
   "pygments_lexer": "ipython3",
   "version": "3.11.4"
  }
 },
 "nbformat": 4,
 "nbformat_minor": 2
}
