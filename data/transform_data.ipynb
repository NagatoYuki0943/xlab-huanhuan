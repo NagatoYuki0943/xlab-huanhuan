{
 "cells": [
  {
   "cell_type": "code",
   "execution_count": 27,
   "metadata": {},
   "outputs": [],
   "source": [
    "import pandas as pd\n",
    "import json\n",
    "from copy import deepcopy\n",
    "from tqdm import tqdm"
   ]
  },
  {
   "cell_type": "markdown",
   "metadata": {},
   "source": [
    "## hf2xtuner"
   ]
  },
  {
   "cell_type": "code",
   "execution_count": null,
   "metadata": {},
   "outputs": [],
   "source": [
    "xtuner_format = {\n",
    "    \"conversation\": [\n",
    "        {\n",
    "            \"system\": \"\",\n",
    "            \"input\": \"\",\n",
    "            \"output\": \"\"\n",
    "        }\n",
    "    ]\n",
    "}"
   ]
  },
  {
   "cell_type": "code",
   "execution_count": 47,
   "metadata": {},
   "outputs": [],
   "source": [
    "def hf2xtuner(hf_data_path: str, xtuner_data_path: str, system: str = \"\"):\n",
    "    with open(hf_data_path, \"r\", encoding=\"utf-8\") as f:\n",
    "        hf_dataset = json.load(f)\n",
    "\n",
    "    xtuner_dataset = []\n",
    "    for hf_data in tqdm(hf_dataset):\n",
    "        xtuner_format_c = deepcopy(xtuner_format)\n",
    "        xtuner_format_c[\"conversation\"][0][\"system\"] = system\n",
    "        xtuner_format_c[\"conversation\"][0][\"input\"] = hf_data.get(\"instruction\", \"\")\n",
    "        xtuner_format_c[\"conversation\"][0][\"output\"] = hf_data.get(\"output\", \"\")\n",
    "        xtuner_dataset.append(xtuner_format_c)\n",
    "\n",
    "    with open(xtuner_data_path, \"w\", encoding=\"utf-8\") as f:\n",
    "        json.dump(xtuner_dataset, f, ensure_ascii=False, indent=4)"
   ]
  },
  {
   "cell_type": "code",
   "execution_count": 48,
   "metadata": {},
   "outputs": [
    {
     "name": "stderr",
     "output_type": "stream",
     "text": [
      "100%|██████████| 3729/3729 [00:00<00:00, 177550.03it/s]\n"
     ]
    }
   ],
   "source": [
    "hf_data_path = \"./huanhuan.json\"\n",
    "xtuner_data_path = \"./huanhuan_xtuner1.json\"\n",
    "hf2xtuner(hf_data_path, xtuner_data_path, system=\"现在你要扮演皇帝身边的女人--甄嬛\")"
   ]
  },
  {
   "cell_type": "markdown",
   "metadata": {},
   "source": [
    "## xtuner2hf"
   ]
  },
  {
   "cell_type": "code",
   "execution_count": 34,
   "metadata": {},
   "outputs": [],
   "source": [
    "hf_format = {\n",
    "    \"instruction\": \"\",\n",
    "    \"input\": \"\",\n",
    "    \"output\": \"\"\n",
    "}"
   ]
  },
  {
   "cell_type": "code",
   "execution_count": 52,
   "metadata": {},
   "outputs": [],
   "source": [
    "def xtuner2hf(xtuner_data_path: str, hf_data_path: str):\n",
    "    with open(xtuner_data_path, \"r\", encoding=\"utf-8\") as f:\n",
    "        xtuner_dataset = json.load(f)\n",
    "\n",
    "    system = \"\"\n",
    "    hf_dataset = []\n",
    "    for xtuner_data in tqdm(xtuner_dataset):\n",
    "        hf_data_c = deepcopy(hf_format)\n",
    "        hf_data_c[\"instruction\"] = xtuner_data[\"conversation\"][0].get(\"input\", \"\")\n",
    "        hf_data_c[\"output\"] = xtuner_data[\"conversation\"][0].get(\"output\", \"\")\n",
    "        system = xtuner_data[\"conversation\"][0].get(\"system\", \"\")\n",
    "        hf_dataset.append(hf_data_c)\n",
    "\n",
    "    with open(hf_data_path, \"w\", encoding=\"utf-8\") as f:\n",
    "        json.dump(hf_dataset, f, ensure_ascii=False, indent=4)\n",
    "\n",
    "    return system"
   ]
  },
  {
   "cell_type": "code",
   "execution_count": 56,
   "metadata": {},
   "outputs": [
    {
     "name": "stderr",
     "output_type": "stream",
     "text": [
      "100%|██████████| 3729/3729 [00:00<00:00, 266408.21it/s]"
     ]
    },
    {
     "name": "stdout",
     "output_type": "stream",
     "text": [
      "system 现在你要扮演皇帝身边的女人--甄嬛\n"
     ]
    },
    {
     "name": "stderr",
     "output_type": "stream",
     "text": [
      "\n"
     ]
    }
   ],
   "source": [
    "xtuner_data_path = \"./huanhuan_xtuner.json\"\n",
    "hf_data_path = \"./huanhuan1.json\"\n",
    "system = xtuner2hf(xtuner_data_path, hf_data_path)\n",
    "print(\"system\", system)"
   ]
  },
  {
   "cell_type": "code",
   "execution_count": 54,
   "metadata": {},
   "outputs": [
    {
     "name": "stderr",
     "output_type": "stream",
     "text": [
      "100%|██████████| 1000000/1000000 [00:03<00:00, 291538.62it/s]\n"
     ]
    },
    {
     "name": "stdout",
     "output_type": "stream",
     "text": [
      "system 你是一个专业的厨师，你会做很多菜。用户报上自己所需的菜名后，你可以把做菜所需要的原料，以及做菜的方法告诉用户\n"
     ]
    }
   ],
   "source": [
    "xtuner_data_path = \"./recipe_dataset-single_xtuner.json\"\n",
    "hf_data_path = \"./recipe_dataset-single.json\"\n",
    "system = xtuner2hf(xtuner_data_path, hf_data_path)\n",
    "print(\"system\", system)"
   ]
  },
  {
   "cell_type": "code",
   "execution_count": null,
   "metadata": {},
   "outputs": [],
   "source": []
  }
 ],
 "metadata": {
  "kernelspec": {
   "display_name": "pytorch",
   "language": "python",
   "name": "python3"
  },
  "language_info": {
   "codemirror_mode": {
    "name": "ipython",
    "version": 3
   },
   "file_extension": ".py",
   "mimetype": "text/x-python",
   "name": "python",
   "nbconvert_exporter": "python",
   "pygments_lexer": "ipython3",
   "version": "3.11.4"
  }
 },
 "nbformat": 4,
 "nbformat_minor": 2
}
