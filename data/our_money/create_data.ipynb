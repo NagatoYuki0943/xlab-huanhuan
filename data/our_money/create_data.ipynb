{
 "cells": [
  {
   "cell_type": "code",
   "execution_count": 28,
   "metadata": {},
   "outputs": [],
   "source": [
    "import json\n",
    "from glob import glob\n",
    "from copy import deepcopy\n",
    "from tqdm import tqdm"
   ]
  },
  {
   "cell_type": "code",
   "execution_count": 15,
   "metadata": {},
   "outputs": [],
   "source": [
    "data_format = {\n",
    "    'text': ''\n",
    "}"
   ]
  },
  {
   "cell_type": "code",
   "execution_count": 5,
   "metadata": {},
   "outputs": [
    {
     "data": {
      "text/plain": [
       "['1.社保，为何越缴越多？｜我们的钱.txt',\n",
       " '2.什么是县城的“公务员经济”？｜我们的钱.txt',\n",
       " '3.保租房越来越多，租房会更便宜吗？｜我们的钱.txt',\n",
       " '4.燃气费，为何上涨？｜我们的钱.txt',\n",
       " '5.当保险不再是确定性保障｜我们的钱.txt',\n",
       " '6.消费可以被“刺激”吗？｜我们的钱.txt',\n",
       " '7.A股为什么不随经济增长而增长？｜我们的钱.txt',\n",
       " '8.城乡二元结构是怎么来的？｜我们的钱.txt']"
      ]
     },
     "execution_count": 5,
     "metadata": {},
     "output_type": "execute_result"
    }
   ],
   "source": [
    "txts = glob(\"*.txt\")\n",
    "txts"
   ]
  },
  {
   "cell_type": "code",
   "execution_count": 34,
   "metadata": {},
   "outputs": [],
   "source": [
    "single_data_len = 1024\n",
    "data_overlap = 256"
   ]
  },
  {
   "cell_type": "code",
   "execution_count": 36,
   "metadata": {},
   "outputs": [
    {
     "name": "stderr",
     "output_type": "stream",
     "text": [
      "100%|██████████| 8/8 [00:00<00:00, 8002.49it/s]\n"
     ]
    },
    {
     "data": {
      "text/plain": [
       "57"
      ]
     },
     "execution_count": 36,
     "metadata": {},
     "output_type": "execute_result"
    }
   ],
   "source": [
    "data_list = []\n",
    "for txt in tqdm(txts):\n",
    "    with open(txt, 'r', encoding='utf-8') as f:\n",
    "        data = f.read()\n",
    "    data_len = len(data)\n",
    "    for i in range(0, data_len, single_data_len-data_overlap):\n",
    "        single_data = data[i:i + single_data_len]\n",
    "        data_format_ = deepcopy(data_format)\n",
    "        data_format_['text'] = single_data\n",
    "        data_list.append(data_format_)\n",
    "len(data_list)"
   ]
  },
  {
   "cell_type": "code",
   "execution_count": 37,
   "metadata": {},
   "outputs": [
    {
     "data": {
      "text/plain": [
       "{'text': '社保，为何越缴越多？｜我们的钱\\n2月初，很多深圳市民发现自己工资收入比之前少了几百块，相关讨论一度登上了热搜。这是因为自2024年1月1日起，深圳市社保缴纳基数由2360元上涨至了3523元。\\n过去几年，全国多个省市都在不同程度地上调社保缴费基数。而深圳因为年轻人口多，养老压力不大，外加经济上有特区立法作为支持，一直是特大城市中社保缴费压力最小的。深圳开启社保基数调整，部分原因可能是为了从发达省份获得更多保费，以保证转移支付到亏空省份的自尽充裕。\\n在此背景下，未来我们的社保压力会有多大？“未富先老”的社会已经到来了吗？希望通过本文，我们能够有一个相对清晰的概念。\\n1. 社保缴费基数是怎么算的？\\n各地的社保基数都来自其上年度平均工资的一个比例，深圳是全省平均工资的40%；成都是全市平均工资的50%，而上海是全市平均工资的60%。因为深圳采取全省平均工资8807元，而非全市平均工资13730元，基数比例又比其他城市低，自然缴纳基数就要低很多。作为对比，成都为4246元，上海为7310元。\\n即便如此，深圳社保基数的3523元依然高于深圳市的最低工资2360元，是其149%。这个比值在成都是215%（对比第二档最低工资），在杭州是195%，北京为261%，上海则高达271%。这对个人和企业都是很大的负担，社保缴纳比例一般为个人缴纳工资的8%，而企业缴纳工资的16%。\\n假设一个人在上海每月收入为2690元（按该市最低工资标准），每月自己需要缴纳的社保为767.55元，企业需缴纳的为2065.51元，加起来为2833.06元。这代表企业相当于招聘了两个人。\\n至此，我们了解了中国社保的基本水平和压力。我们就从社保中最重要也是对每个人影响最大的养老保险，进一步审视这个问题。\\n2. 账面工资相对体面，实际收入越来越少\\n社保基金的支出和使用，是一个复杂的问题。为了让这个问题易于理解，我们可以做一个简单的推演。\\n假设有10个人，每个人的月收入都是1万元人民币。如果其中有2个退休人员，那么他们的2万元收入，就由另外8人的养老金支付，每个人每月需要支付2500元。如果退休人员增加为4人，还在工作的6人每月支付的养老金则为6666元。如果退休人员增加为5人，则还在工作的人每月将1分钱也拿不到。\\n这个残酷的数值为“老年人口抚养比”，简单来说就是几个劳动人口供养一个退休的老人。作为老龄化问题严峻的日本，其抚养比已经到达50%，即两个年轻人需要抚'}"
      ]
     },
     "execution_count": 37,
     "metadata": {},
     "output_type": "execute_result"
    }
   ],
   "source": [
    "data_list[0]"
   ]
  },
  {
   "cell_type": "code",
   "execution_count": 38,
   "metadata": {},
   "outputs": [
    {
     "data": {
      "text/plain": [
       "{'text': '支出和使用，是一个复杂的问题。为了让这个问题易于理解，我们可以做一个简单的推演。\\n假设有10个人，每个人的月收入都是1万元人民币。如果其中有2个退休人员，那么他们的2万元收入，就由另外8人的养老金支付，每个人每月需要支付2500元。如果退休人员增加为4人，还在工作的6人每月支付的养老金则为6666元。如果退休人员增加为5人，则还在工作的人每月将1分钱也拿不到。\\n这个残酷的数值为“老年人口抚养比”，简单来说就是几个劳动人口供养一个退休的老人。作为老龄化问题严峻的日本，其抚养比已经到达50%，即两个年轻人需要抚养一个老人。这当然不意味着老年人口数量已到达一半，日本65岁以上的人口占总人口比例为30%（日本到65岁才可以开始领取退休金），但这依然是一个非常高的数值。\\n当前全国老年人口抚养比为21%，但辽宁、重庆、四川、江苏、上海五个省市均已经超过了26%。未来这个数字会更加严峻。现在50-60岁人口为2.2亿（因为婴儿潮的原因，中国现在人口主力年龄为40-60岁，未来20年新老人口数巨大），而10-20岁人口为1.5亿人。由此推算，十年后中国退休人口比例将会达到30%，“老年人口抚养比”也会来到50%，也就是说，我们距离一个深度老龄化社会仅还有十年时间。\\n我们再来引入另一个比值——“养老金替代率”，这是指养老金支付的收入占此前劳动时收入的比例。例如我退休前收入为2万/月，退休后可以领到的1万一月养老金，则“养老金替代率”为50%。显然，替代率越高，退休生活的质量也越好。以上海为例，上海平均养老金月均领取为5399元，平均工资则是12183元，因此上海的养老金替代率为44%。而在城乡发展差距巨大的背景下，当前农村养老金替代率仅为8%。\\n即使上海已是全国最为发达的城市之一，和OECD国家（注：经济合作与发展组织，简称经合组织，是全球38个市场经济国家组成的政府间国际组织）平均为73.2%的养老金替代率相比，44%着实不高，并且我国养老金替代率还在逐年下降。\\n养老金替代率涉及退休后的收入，我想大家更关心的是社保体系对个人每月收入的影响，也就是说，每个月工资中多大比例会被用于社保支付。同样，我们可以从“养老金替代率”和“老年人口抚养比”，来计算一个最简单的每月养老金缴纳基数。假设养老金替代率为44%，老年人口抚养比为50%，则构成一个6人的团体，4人劳动，2人退休，劳动者每月收入1万元，退休者每月领4400元，则劳动者每月需要'}"
      ]
     },
     "execution_count": 38,
     "metadata": {},
     "output_type": "execute_result"
    }
   ],
   "source": [
    "data_list[1]"
   ]
  },
  {
   "cell_type": "code",
   "execution_count": 42,
   "metadata": {},
   "outputs": [
    {
     "data": {
      "text/plain": [
       "570"
      ]
     },
     "execution_count": 42,
     "metadata": {},
     "output_type": "execute_result"
    }
   ],
   "source": [
    "repeat_time = 100\n",
    "data_list1 = []\n",
    "for _ in range(repeat_time):\n",
    "    data_list1 += data_list\n",
    "len(data_list1)"
   ]
  },
  {
   "cell_type": "code",
   "execution_count": 44,
   "metadata": {},
   "outputs": [],
   "source": [
    "with open(\"our_money.json\", 'w', encoding='utf-8') as f:\n",
    "    json.dump(data_list1, f, ensure_ascii=False, indent=4)"
   ]
  },
  {
   "cell_type": "code",
   "execution_count": null,
   "metadata": {},
   "outputs": [],
   "source": []
  }
 ],
 "metadata": {
  "kernelspec": {
   "display_name": "pytorch",
   "language": "python",
   "name": "python3"
  },
  "language_info": {
   "codemirror_mode": {
    "name": "ipython",
    "version": 3
   },
   "file_extension": ".py",
   "mimetype": "text/x-python",
   "name": "python",
   "nbconvert_exporter": "python",
   "pygments_lexer": "ipython3",
   "version": "3.11.9"
  }
 },
 "nbformat": 4,
 "nbformat_minor": 2
}
